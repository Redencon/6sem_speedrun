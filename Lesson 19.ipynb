{
 "cells": [
  {
   "cell_type": "markdown",
   "metadata": {},
   "source": [
    "# Lesson 19: DataBases\n",
    "\n",
    "commentary: the usage of my favorite SQL-related package -- SQLAlchemy -- can be ssen in github.com/redencon/psich\n",
    "\n",
    "> T+: `-:--:--`\n",
    "\n",
    "note: SQL queries that are singlets can have no ;"
   ]
  },
  {
   "cell_type": "markdown",
   "metadata": {},
   "source": [
    "## Task 1. Create tables"
   ]
  },
  {
   "cell_type": "markdown",
   "metadata": {},
   "source": [
    "### Creating\n",
    "```sql\n",
    "CREATE TABLE books(\n",
    "    id INTEGER PRIMARY KEY NOT NULL,\n",
    "    author TEXT NOT NULL,\n",
    "    title TEXT NOT NULL,\n",
    "    publish_year INTEGER\n",
    ");\n",
    "\n",
    "CREATE TABLE readers(\n",
    "    id INTEGER PRIMARY KEY NOT NULL,\n",
    "    name TEXT NOT NULL\n",
    ");\n",
    "\n",
    "CREATE TABLE records(\n",
    "    FOREIGN KEY (reader_id) REFERENCES readers (id),\n",
    "    FOREIGN KEY (book_id) REFERENCES books(id),\n",
    "    taking_date TEXT NOT NULL,\n",
    "    returning_date TEXT\n",
    ")\n",
    "```"
   ]
  },
  {
   "cell_type": "markdown",
   "metadata": {},
   "source": [
    "### Filling\n",
    "```sql\n",
    "INSERT INTO books (author, title, publish_year)\n",
    "VALUES\n",
    "    (\"Илья Варламов\", \"100 советов мэру\", 2020),\n",
    "    (\"Карл Клаузевиц\", \"О войне\", 1832),\n",
    "    (\"Максим Ильяхов\", \"Пиши, сокрашай 2025\", 2024),\n",
    "    (\"Кэрол Дуэк\", \"Гибкое сознание\", 2006);\n",
    "\n",
    "INSERT INTO readers (name)\n",
    "VALUES\n",
    "    (\"Клим Гольдштейн\"),\n",
    "    (\"Илья Захаров\"),\n",
    "    (\"Петр Ковалёв\"),\n",
    "    (\"Мария Егорова\");\n",
    "\n",
    "INSERT INTO records (reader_id, book_id, taking_date, returning_date)\n",
    "VALUES\n",
    "    (1, 2, \"01-12-2012\", \"02-12-2012\"),\n",
    "    (1, 3, \"01-12-2024\", \"0-7-12-2024\"),\n",
    "    (2, 2, \"06-08-2024\"),\n",
    "    (3, 1, \"06-08-2023\"),\n",
    "    (4, 4, \"12-08-2024\");\n",
    "```"
   ]
  },
  {
   "cell_type": "markdown",
   "metadata": {},
   "source": [
    "## Selecting\n",
    "```sql\n",
    "SELECT DISTINCT id, title\n",
    "FROM records\n",
    "LEFT JOIN books ON books.id = records.book_id\n",
    "WHERE records.returning_date IS NULL;\n",
    "\n",
    "SELECT title, name\n",
    "FROM records\n",
    "LEFT JOIN books ON books.id = records.book_id\n",
    "LEFT JOIN readers ON readers.id = records.reader_id;\n",
    "\n",
    "SELECT COUNT(*)\n",
    "FROM books\n",
    "GROUP BY author;\n",
    "```"
   ]
  }
 ],
 "metadata": {
  "language_info": {
   "name": "python"
  }
 },
 "nbformat": 4,
 "nbformat_minor": 2
}
