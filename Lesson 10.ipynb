{
 "cells": [
  {
   "cell_type": "code",
   "execution_count": 1,
   "metadata": {},
   "outputs": [],
   "source": [
    "import asyncio\n",
    "\n",
    "async def factorial(name, number):\n",
    "    f = 1\n",
    "    for i in range(2, number + 1):\n",
    "        print(f\"Task {name}: Compute factorial({i})...\")\n",
    "        await asyncio.sleep(1)\n",
    "        f *= i\n",
    "    print(f\"Task {name}: factorial({number}) = {f}\")\n",
    "\n",
    "async def main():\n",
    "    await asyncio.gather(\n",
    "        factorial(\"A\", 2),\n",
    "        factorial(\"B\", 3),\n",
    "        factorial(\"C\", 4),\n",
    "    )"
   ]
  },
  {
   "cell_type": "markdown",
   "metadata": {},
   "source": [
    "Ожиадется:\n",
    "```\n",
    "Task A: Compute factorial(2)...\n",
    "Task B: Compute factorial(2)...\n",
    "Task C: Compute factorial(2)...\n",
    "Task A: factorial(2) = 2\n",
    "Task B: Compute factorial(3)...\n",
    "Task C: Compute factorial(3)...\n",
    "Task B: factorial(3) = 6\n",
    "Task C: Compute factorial(4)...\n",
    "Task C: factorial(4) = 24\n",
    "```"
   ]
  },
  {
   "cell_type": "code",
   "execution_count": 3,
   "metadata": {},
   "outputs": [
    {
     "name": "stdout",
     "output_type": "stream",
     "text": [
      "Task A: Compute factorial(2)...\n",
      "Task B: Compute factorial(2)...\n",
      "Task C: Compute factorial(2)...\n",
      "Task A: factorial(2) = 2\n",
      "Task B: Compute factorial(3)...\n",
      "Task C: Compute factorial(3)...\n",
      "Task B: factorial(3) = 6\n",
      "Task C: Compute factorial(4)...\n",
      "Task C: factorial(4) = 24\n"
     ]
    }
   ],
   "source": [
    "await main()"
   ]
  },
  {
   "cell_type": "code",
   "execution_count": 8,
   "metadata": {},
   "outputs": [
    {
     "name": "stdout",
     "output_type": "stream",
     "text": [
      "93.175.28.151\n"
     ]
    }
   ],
   "source": [
    "from collections import namedtuple\n",
    "import time\n",
    "import asyncio\n",
    "from concurrent.futures import FIRST_COMPLETED\n",
    "import aiohttp\n",
    "\n",
    "Service = namedtuple('Service', ('name', 'url', 'ip_attr'))\n",
    "\n",
    "SERVICES = (\n",
    "    Service('ipify', 'https://api.ipify.org?format=json', 'ip'),\n",
    "    Service('ip-api', 'http://ip-api.com/json', 'query')\n",
    ")\n",
    "\n",
    "async def fetch_ip(service: Service):\n",
    "    async with aiohttp.ClientSession() as session:\n",
    "        async with session.get(service.url) as response:\n",
    "            return (await response.json())[service.ip_attr]\n",
    "\n",
    "\n",
    "async def asynchronous():\n",
    "    # TODO:\n",
    "    # создание футур для сервисов\n",
    "    # используйте FIRST_COMPLETED\n",
    "    futures = []\n",
    "    for service in SERVICES:\n",
    "        futures.append(asyncio.ensure_future(fetch_ip(service)))\n",
    "    done, pending = await asyncio.wait(futures, return_when=asyncio.FIRST_COMPLETED)\n",
    "    for result in done:\n",
    "        print(result.result())\n",
    "        break\n",
    "\n",
    "ioloop = asyncio.get_event_loop()\n",
    "await asynchronous()"
   ]
  },
  {
   "cell_type": "markdown",
   "metadata": {},
   "source": [
    "aiogram пожалуйста не надо, см. poll_bot если что-то такое интересно"
   ]
  }
 ],
 "metadata": {
  "kernelspec": {
   "display_name": ".venv",
   "language": "python",
   "name": "python3"
  },
  "language_info": {
   "codemirror_mode": {
    "name": "ipython",
    "version": 3
   },
   "file_extension": ".py",
   "mimetype": "text/x-python",
   "name": "python",
   "nbconvert_exporter": "python",
   "pygments_lexer": "ipython3",
   "version": "3.11.5"
  }
 },
 "nbformat": 4,
 "nbformat_minor": 2
}
