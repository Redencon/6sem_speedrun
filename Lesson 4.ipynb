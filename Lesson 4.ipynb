{
 "cells": [
  {
   "cell_type": "markdown",
   "metadata": {},
   "source": [
    "# Обработка аргументов командной строки. Библиотеки sys и argparse. Декораторы\n",
    "\n",
    "> TIME: 0:26:07"
   ]
  },
  {
   "cell_type": "code",
   "execution_count": 1,
   "metadata": {},
   "outputs": [],
   "source": [
    "import sys\n",
    "import argparse"
   ]
  },
  {
   "cell_type": "code",
   "execution_count": 7,
   "metadata": {},
   "outputs": [
    {
     "name": "stderr",
     "output_type": "stream",
     "text": [
      "usage: ipykernel_launcher.py [-h] [-n [N]] [a]\n",
      "ipykernel_launcher.py: error: unrecognized arguments: --f=c:\\Users\\Redencon\\AppData\\Roaming\\jupyter\\runtime\\kernel-v2-700049DLrwh5ao9g5.json\n"
     ]
    },
    {
     "ename": "SystemExit",
     "evalue": "2",
     "output_type": "error",
     "traceback": [
      "An exception has occurred, use %tb to see the full traceback.\n",
      "\u001b[1;31mSystemExit\u001b[0m\u001b[1;31m:\u001b[0m 2\n"
     ]
    },
    {
     "name": "stderr",
     "output_type": "stream",
     "text": [
      "c:\\Users\\Redencon\\Documents\\PyScripts\\6sem_speedrun\\.venv\\Lib\\site-packages\\IPython\\core\\interactiveshell.py:3585: UserWarning: To exit: use 'exit', 'quit', or Ctrl-D.\n",
      "  warn(\"To exit: use 'exit', 'quit', or Ctrl-D.\", stacklevel=1)\n"
     ]
    }
   ],
   "source": [
    "# See scripts/arg_fib.py\n",
    "\n",
    "import sys\n",
    "import argparse\n",
    "\n",
    "def arg_parser():\n",
    "    parser = argparse.ArgumentParser()\n",
    "    parser.add_argument(\"a\", nargs=\"?\")\n",
    "    parser.add_argument(\"-n\", nargs=\"?\")\n",
    "    return parser\n",
    "\n",
    "def fibonacci(n: int):\n",
    "    a = [1 for _ in range(n+1)]\n",
    "    for i in range(2, n+1):\n",
    "        a[i] = a[i-1] + a[i-2]\n",
    "    return a[-1]\n",
    "\n",
    "if __name__ == \"__main__\":\n",
    "    parser = arg_parser()\n",
    "    argv = parser.parse_args(sys.argv[1:])\n",
    "    print(fibonacci(int(argv.n or argv.a)))"
   ]
  },
  {
   "cell_type": "code",
   "execution_count": 3,
   "metadata": {},
   "outputs": [
    {
     "name": "stdout",
     "output_type": "stream",
     "text": [
      "Нет(\n",
      "Очень много\n"
     ]
    },
    {
     "data": {
      "text/plain": [
       "(0, 17, 4)"
      ]
     },
     "execution_count": 3,
     "metadata": {},
     "output_type": "execute_result"
    }
   ],
   "source": [
    "def even_count(l: list[int]):\n",
    "    c = 0\n",
    "    for n in l:\n",
    "        if n % 2 == 0:\n",
    "            c += 1\n",
    "    return c\n",
    "\n",
    "def even_mod(f):\n",
    "    def better_even(l: list[int]):\n",
    "        res = f(l)\n",
    "        if res == 0:\n",
    "            print(\"Нет(\")\n",
    "        if res > 10:\n",
    "            print(\"Очень много\")\n",
    "        return res\n",
    "    return better_even\n",
    "\n",
    "be = even_mod(even_count)\n",
    "\n",
    "be([1]), be([2]*17), be(list(range(8)))"
   ]
  },
  {
   "cell_type": "code",
   "execution_count": 5,
   "metadata": {},
   "outputs": [
    {
     "name": "stdout",
     "output_type": "stream",
     "text": [
      "2.0\n"
     ]
    },
    {
     "data": {
      "text/plain": [
       "2.0"
      ]
     },
     "execution_count": 5,
     "metadata": {},
     "output_type": "execute_result"
    }
   ],
   "source": [
    "def swap(f):\n",
    "    def rev_f(*arg, **kw):\n",
    "        return f(*arg[::-1], **kw)\n",
    "    return rev_f\n",
    "\n",
    "@swap\n",
    "def div(x, y, show=False):\n",
    "    res = x / y\n",
    "    if show:\n",
    "        print(res)\n",
    "    return res\n",
    "\n",
    "div(2, 4, show=True)"
   ]
  },
  {
   "cell_type": "code",
   "execution_count": 11,
   "metadata": {},
   "outputs": [
    {
     "data": {
      "text/plain": [
       "10119911756749018713965376799211044556615579094364594923736162239653346274"
      ]
     },
     "execution_count": 11,
     "metadata": {},
     "output_type": "execute_result"
    }
   ],
   "source": [
    "import datetime\n",
    "def logit(filename: str):\n",
    "    def dec(f):\n",
    "        def logged_f(*a, **kw):\n",
    "            now = datetime.datetime.now()\n",
    "            s = now.strftime(\"%H:%M:%S.%f\\n\")\n",
    "            s += \"args: {}|kwargs: {}\\n\".format(\", \".join([str(e) for e in a]), \", \".join([f\"{k}: {v}\" for k, v in kw.items()]))\n",
    "            ret = f(*a, **kw)\n",
    "            s += f\"Returned: {ret}\\n\"\n",
    "            end = datetime.datetime.now()\n",
    "            s += end.strftime(\"%H:%M:%S.%f\\n\")\n",
    "            s += f\"Elapsed: {(end - now).microseconds} microseconds\"\n",
    "            with open(filename, \"w\") as file:\n",
    "                file.write(s)\n",
    "            return ret\n",
    "        return logged_f\n",
    "    return dec\n",
    "\n",
    "@logit(\"assets/logg.txt\")\n",
    "def long_fib(n: int):\n",
    "    return fibonacci(10*n)\n",
    "\n",
    "long_fib(35) "
   ]
  },
  {
   "cell_type": "markdown",
   "metadata": {},
   "source": [
    "```\n",
    "17:35:58.151987\n",
    "args: 35|kwargs: \n",
    "Returned: 10119911756749018713965376799211044556615579094364594923736162239653346274\n",
    "17:35:58.151987\n",
    "Elapsed: 0 microseconds\n",
    "```"
   ]
  },
  {
   "cell_type": "markdown",
   "metadata": {},
   "source": []
  }
 ],
 "metadata": {
  "kernelspec": {
   "display_name": ".venv",
   "language": "python",
   "name": "python3"
  },
  "language_info": {
   "codemirror_mode": {
    "name": "ipython",
    "version": 3
   },
   "file_extension": ".py",
   "mimetype": "text/x-python",
   "name": "python",
   "nbconvert_exporter": "python",
   "pygments_lexer": "ipython3",
   "version": "3.11.5"
  }
 },
 "nbformat": 4,
 "nbformat_minor": 2
}
