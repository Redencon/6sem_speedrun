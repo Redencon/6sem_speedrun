{
 "cells": [
  {
   "cell_type": "markdown",
   "metadata": {},
   "source": [
    "# ООП и диаграммы классов UML\n",
    "\n",
    "> TIME: 0:33:56"
   ]
  },
  {
   "cell_type": "code",
   "execution_count": 3,
   "metadata": {},
   "outputs": [
    {
     "name": "stdout",
     "output_type": "stream",
     "text": [
      "36.0 18.0\n"
     ]
    }
   ],
   "source": [
    "class Shape:\n",
    "    def __init__(self, width: float, hight: float) -> None:\n",
    "        self.width = width\n",
    "        self.height = hight\n",
    "\n",
    "    def area(self) -> float:\n",
    "        raise NotImplementedError\n",
    "\n",
    "\n",
    "class Rectangle(Shape):\n",
    "    def area(self):\n",
    "        return self.width * self.height * 1.0\n",
    "\n",
    "\n",
    "class Triangle(Shape):\n",
    "    def area(self):\n",
    "        return self.width * self.height * 0.5\n",
    "\n",
    "r1 = Rectangle(12, 3)\n",
    "t1 = Triangle(9, 4)\n",
    "print(r1.area(), t1.area())"
   ]
  },
  {
   "cell_type": "code",
   "execution_count": 5,
   "metadata": {},
   "outputs": [
    {
     "name": "stdout",
     "output_type": "stream",
     "text": [
      "I am Mother. My name is not of your concern.\n",
      "I am Jane, nut you can call me DeeDee instead\n"
     ]
    }
   ],
   "source": [
    "class Mother:\n",
    "    def __init__(self, name) -> None:\n",
    "        self.name = name\n",
    "    \n",
    "    def __repr__(self) -> str:\n",
    "        return \"I am Mother. My name is not of your concern.\"\n",
    "\n",
    "class Daughter(Mother):\n",
    "    def __repr__(self) -> str:\n",
    "        return f\"I am {self.name}, nut you can call me DeeDee instead\"\n",
    "\n",
    "m = Mother(\"Anastasia\")\n",
    "d = Daughter(\"Jane\")\n",
    "\n",
    "print(m)\n",
    "print(d)"
   ]
  },
  {
   "cell_type": "code",
   "execution_count": 8,
   "metadata": {},
   "outputs": [
    {
     "name": "stdout",
     "output_type": "stream",
     "text": [
      "This is KeKe of Zebra species. It is 12 years old.\n",
      "The stripe pattern of this animal is able to cause vertigo for non-suspecting predator, if moved in tall grass and in herds\n",
      "This is Wolly of Dolphin species. It is 5 years old.\n",
      "Dolphing saving drowning people is a common example of survivor's bias. In fact most dolphins are hostile or indifferent to humans, but these people didn't survive to tell us about that\n"
     ]
    }
   ],
   "source": [
    "class Animal:\n",
    "    species = \"Not Specified\"\n",
    "\n",
    "    def __init__(self, name, age) -> None:\n",
    "        self.name = name\n",
    "        self.age = age\n",
    "\n",
    "    @property\n",
    "    def fact(self) -> str:\n",
    "        raise NotImplementedError\n",
    "\n",
    "    def __repr__(self) -> str:\n",
    "        return f\"This is {self.name} of {self.species} species. It is {self.age} years old.\"\n",
    "\n",
    "\n",
    "class Zebra(Animal):\n",
    "    species = \"Zebra\"\n",
    "    \n",
    "    @property\n",
    "    def fact(self):\n",
    "        return \"The stripe pattern of this animal is able to cause vertigo for non-suspecting predator, if moved in tall grass and in herds\"\n",
    "\n",
    "class Dolphin(Animal):\n",
    "    species = \"Dolphin\"\n",
    "    \n",
    "    @property\n",
    "    def fact(self):\n",
    "        return \"Dolphing saving drowning people is a common example of survivor's bias. In fact most dolphins are hostile or indifferent to humans, but these people didn't survive to tell us about that\"\n",
    "\n",
    "\n",
    "z1 = Zebra(\"KeKe\", 12)\n",
    "d1 = Dolphin(\"Wolly\", 5)\n",
    "\n",
    "print(z1, z1.fact, sep=\"\\n\")\n",
    "print(d1, d1.fact, sep='\\n')"
   ]
  },
  {
   "cell_type": "code",
   "execution_count": 9,
   "metadata": {},
   "outputs": [],
   "source": [
    "import zipfile\n",
    "\n",
    "with zipfile.PyZipFile(\"assets/arithmetic_dragons.zip\") as z:\n",
    "    z.extractall(\"main\")"
   ]
  }
 ],
 "metadata": {
  "kernelspec": {
   "display_name": ".venv",
   "language": "python",
   "name": "python3"
  },
  "language_info": {
   "codemirror_mode": {
    "name": "ipython",
    "version": 3
   },
   "file_extension": ".py",
   "mimetype": "text/x-python",
   "name": "python",
   "nbconvert_exporter": "python",
   "pygments_lexer": "ipython3",
   "version": "3.11.5"
  }
 },
 "nbformat": 4,
 "nbformat_minor": 2
}
