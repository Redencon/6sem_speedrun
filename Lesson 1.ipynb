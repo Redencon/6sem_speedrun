{
 "cells": [
  {
   "cell_type": "markdown",
   "metadata": {},
   "source": [
    "# Работа в командной строке Linux\n",
    "\n",
    "(Ноутбук создан на Windows)\n",
    "\n",
    "TIME: `0:21:50`"
   ]
  },
  {
   "cell_type": "markdown",
   "metadata": {},
   "source": [
    "## Команды Linux\n",
    "\n",
    "- `echo` - вывести аргументы stdout\n",
    "- `man` - вывести мануал аргумента в nano\n",
    "- `pwd` - напечатать текцщую директорию в stdout\n",
    "- `ls` - перечислить все файлы текущей или указанной директории в stdout\n",
    "- `cd` - сменить рабочую директорию\n",
    "- `mkdir` - создать папку\n",
    "- `cat` - вывсети содержимое файла в stdout\n",
    "\n",
    "пайпинг в файл: `>`\n",
    "пайпинг в команду `|`\n",
    "\n",
    "Шелл скрипты задаются шебангом в начале файла (`#!`) и должны быть переобозначены в правах как исполняемые (напрмер 744)\n",
    "\n",
    "## Vim\n",
    "\n",
    "консольный текстовый редактор. Имеет широкий набор команд и макросов. Иммет три режима ввода - исполнителный, вставочный и командный\n",
    "\n",
    "## Переменные\n",
    "\n",
    "В терминале есть переменные, которые задаются во время его инициализации, и которые можно менять или создавать. список переменных доступен через `env`\n",
    "\n",
    "`PATH` - переменная, по которой ищётся исполняемые файлы\n",
    "\n",
    "## Права\n",
    "\n",
    "Права пользователей и групп задаются по трём параметрам для каждого файла и/или директории -- право на чтение, запись и исполнение. Изменить права пользователей для выбранных объектов можно с помощью `chmod`: `chmod [args] ??? path`. Права задаются текстом, числами или двоично\n",
    "\n",
    "## Фоновый запуск\n",
    "\n",
    "Команду можно запустить исполняться на фон,оставив терминал доступным для ввода других команд, введя `&` в конце. получить список фоновых задач можно через `bg`, `jobs`, `pgrep`, `top`\n",
    "\n",
    "Программы можно останавливать по pid с помощью `kill`\n"
   ]
  },
  {
   "cell_type": "markdown",
   "metadata": {},
   "source": [
    "> absolute.sh\n",
    "```sh \n",
    "#!\n",
    "FPATH=\"/tmp/hello_world/absolute.txt\"\n",
    "echo \"hello world\" > $FPATH\n",
    "cat $FPATH\n",
    "chattr $FPATH\n",
    "```"
   ]
  },
  {
   "cell_type": "markdown",
   "metadata": {},
   "source": [
    "> home.sh\n",
    "```sh\n",
    "#!\n",
    "FPATH=\"~/hello_home/home.txt\"\n",
    "echo \"hello home!!\" > $FPATH\n",
    "cat $FPATH\n",
    "chattr $FPATH\n",
    "```"
   ]
  },
  {
   "cell_type": "markdown",
   "metadata": {},
   "source": [
    "> current.sh\n",
    "```sh\n",
    "#!\n",
    "FPATH=\"./hello_current/current.txt\"\n",
    "echo \"hello current!!\" > $FPATH\n",
    "cat $FPATH\n",
    "chattr $FPATH\n",
    "```"
   ]
  },
  {
   "cell_type": "markdown",
   "metadata": {},
   "source": [
    "> parent.sh\n",
    "```sh\n",
    "#!\n",
    "FPATH=\"../hello_parent/parent.txt\"\n",
    "echo \"hello parent!!\" > $FPATH\n",
    "cat $FPATH\n",
    "chattr $FPATH\n",
    "```"
   ]
  },
  {
   "cell_type": "markdown",
   "metadata": {},
   "source": [
    "> hello.sh\n",
    "```sh\n",
    "#!\n",
    "FPATH=\"$DSKTOP_PATH/home.txt\"\n",
    "echo \"Hello world!\"\n",
    "echo \"Hello world!\" > $FPATH\n",
    "```"
   ]
  },
  {
   "cell_type": "markdown",
   "metadata": {},
   "source": [
    "```sh\n",
    "CWD=pwd\n",
    "PATH=$PATH:$CWD\n",
    "```"
   ]
  },
  {
   "cell_type": "markdown",
   "metadata": {},
   "source": [
    "> pause.sh\n",
    "```sh\n",
    "#!\n",
    "sleep 1000\n",
    "```"
   ]
  },
  {
   "cell_type": "markdown",
   "metadata": {},
   "source": [
    "```sh\n",
    "sh pause.sh &\n",
    "```"
   ]
  },
  {
   "cell_type": "markdown",
   "metadata": {},
   "source": [
    "```sh\n",
    "bg\n",
    "$PID=1 # or anythig else that is gathered\n",
    "kill SIGKILL 1\n",
    "```"
   ]
  }
 ],
 "metadata": {
  "language_info": {
   "name": "python"
  }
 },
 "nbformat": 4,
 "nbformat_minor": 2
}
