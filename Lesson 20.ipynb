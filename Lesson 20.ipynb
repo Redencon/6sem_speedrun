{
 "cells": [
  {
   "cell_type": "markdown",
   "metadata": {},
   "source": [
    "# Lesson 20. sqlite3\n",
    "`T+: 0:20:40`"
   ]
  },
  {
   "cell_type": "code",
   "execution_count": 3,
   "metadata": {},
   "outputs": [],
   "source": [
    "import sqlite3\n",
    "import time"
   ]
  },
  {
   "cell_type": "code",
   "execution_count": null,
   "metadata": {},
   "outputs": [],
   "source": [
    "db = \"my.db\"\n",
    "\n",
    "def print_all_books():\n",
    "    with sqlite3.connect(db) as conn:\n",
    "        c = conn.cursor()\n",
    "        for row in c.execute(\"SELECT title, author FROM books\"):\n",
    "            print(row[0], \" by \", row[1])\n",
    "\n",
    "def print_all_readers():\n",
    "    with sqlite3.connect(db) as conn:\n",
    "        c = conn.cursor()\n",
    "        for row in c.execute(\"SELECT name FROM readers\"):\n",
    "            print(row[0])\n",
    "\n",
    "def add_book(title, author, year):\n",
    "    with sqlite3.connect(db) as conn:\n",
    "        conn.execute(\"INSERT INTO books(title, author, publish_year) VALUES (?, ?, ?)\", (title, author, year))\n",
    "\n",
    "def add_reader(name):\n",
    "    with sqlite3.connect(db) as conn:\n",
    "        conn.execute(\"INSERT INTO readers(name) VALUES (?)\", (name,))\n",
    "\n",
    "def give_book(name, title):\n",
    "    with sqlite3.connect(db) as conn:\n",
    "        c = conn.cursor()\n",
    "        c.execute(\"SELECT id FROM readers WHERE readers.name = ?\", (name,))\n",
    "        uid = c.fetchone()[0]\n",
    "        c.execute(\"SELECT id FROM books WHERE books.title = ?\", (title,))\n",
    "        bid = c.fetchone()[0]\n",
    "        today = time.strftime(\"%Y-%m-%d\")\n",
    "        conn.execute(\"INSERT INTO records(reader_id, book_id, taking_date) VALUES (?,?,?)\", (uid, bid, today))\n",
    "\n",
    "def get_book(name, title):\n",
    "    with sqlite3.connect(db) as conn:\n",
    "        c = conn.cursor()\n",
    "        c.execute(\"SELECT id FROM readers WHERE readers.name = ?\", (name,))\n",
    "        uid = c.fetchone()[0]\n",
    "        c.execute(\"SELECT id FROM books WHERE books.title = ?\", (title,))\n",
    "        bid = c.fetchone()[0]\n",
    "        today = time.strftime(\"%Y-%m-%d\")\n",
    "        conn.execute(\"UPDATE records SET returning_date = ? WHERE reader_id = ? AND book_id = ?\", (today, uid, bid))"
   ]
  }
 ],
 "metadata": {
  "kernelspec": {
   "display_name": ".venv",
   "language": "python",
   "name": "python3"
  },
  "language_info": {
   "codemirror_mode": {
    "name": "ipython",
    "version": 3
   },
   "file_extension": ".py",
   "mimetype": "text/x-python",
   "name": "python",
   "nbconvert_exporter": "python",
   "pygments_lexer": "ipython3",
   "version": "3.11.5"
  }
 },
 "nbformat": 4,
 "nbformat_minor": 2
}
