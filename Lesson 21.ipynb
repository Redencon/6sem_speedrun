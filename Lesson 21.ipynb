{
 "cells": [
  {
   "cell_type": "markdown",
   "metadata": {},
   "source": [
    "# Lesson 21. Intro into ML\n",
    "*comm:* here we go, I guess. There no such little fun as learning ML for the fourth time\n",
    "`T+: -:--:--`"
   ]
  },
  {
   "cell_type": "code",
   "execution_count": 1,
   "metadata": {},
   "outputs": [],
   "source": [
    "import sklearn as skl"
   ]
  },
  {
   "cell_type": "code",
   "execution_count": 4,
   "metadata": {},
   "outputs": [
    {
     "name": "stdout",
     "output_type": "stream",
     "text": [
      "Keys of iris_dataset:\n",
      " dict_keys(['data', 'target', 'frame', 'target_names', 'DESCR', 'feature_names', 'filename', 'data_module'])\n"
     ]
    }
   ],
   "source": [
    "from sklearn.datasets import load_iris\n",
    "iris_dataset = load_iris()\n",
    "\n",
    "print(\"Keys of iris_dataset:\\n\", iris_dataset.keys())"
   ]
  },
  {
   "cell_type": "code",
   "execution_count": 3,
   "metadata": {},
   "outputs": [
    {
     "name": "stdout",
     "output_type": "stream",
     "text": [
      ".. _iris_dataset:\n",
      "\n",
      "Iris plants dataset\n",
      "--------------------\n",
      "\n",
      "**Data Set Characteristics:**\n",
      "\n",
      ":Number of Instances: 150 (50 in each of three classes)\n",
      ":Number of Attributes: 4 numeric, predictive \n",
      "...\n"
     ]
    }
   ],
   "source": [
    "print(iris_dataset['DESCR'][:193] + \"\\n...\")"
   ]
  },
  {
   "cell_type": "code",
   "execution_count": 14,
   "metadata": {},
   "outputs": [],
   "source": [
    "from sklearn.model_selection import KFold\n",
    "from sklearn.neighbors import KNeighborsClassifier\n",
    "from sklearn.model_selection import sc\n",
    "import pandas as pd"
   ]
  },
  {
   "cell_type": "code",
   "execution_count": 10,
   "metadata": {},
   "outputs": [
    {
     "data": {
      "text/plain": [
       "5"
      ]
     },
     "execution_count": 10,
     "metadata": {},
     "output_type": "execute_result"
    }
   ],
   "source": [
    "kf = KFold(n_splits=5, shuffle=True, random_state=2024)\n",
    "kf.get_n_splits(iris_dataset)"
   ]
  },
  {
   "cell_type": "code",
   "execution_count": 18,
   "metadata": {},
   "outputs": [
    {
     "name": "stdout",
     "output_type": "stream",
     "text": [
      "0.9333333333333333\n",
      "0.9333333333333333\n",
      "0.9666666666666667\n",
      "0.9666666666666667\n",
      "1.0\n"
     ]
    }
   ],
   "source": [
    "kf = KFold(n_splits=5, shuffle=True, random_state=2024)\n",
    "NN = 1\n",
    "knn = KNeighborsClassifier(n_neighbors=NN)\n",
    "features = iris_dataset['data']\n",
    "flags = iris_dataset['target']\n",
    "for train_index, test_index in kf.split(features, y=flags):\n",
    "    # train_df = pd.DataFrame(iris_dataset['data'][train_index], columns=iris_dataset.feature_names)\n",
    "    knn.fit(features[train_index], flags[train_index])\n",
    "    print(knn.score(features[test_index], flags[test_index]))"
   ]
  },
  {
   "cell_type": "code",
   "execution_count": 19,
   "metadata": {},
   "outputs": [
    {
     "name": "stdout",
     "output_type": "stream",
     "text": [
      "0.9333333333333333\n",
      "0.9866666666666667\n"
     ]
    }
   ],
   "source": [
    "kf = KFold(n_splits=2, shuffle=True, random_state=2024)\n",
    "NN = 1\n",
    "knn = KNeighborsClassifier(n_neighbors=NN)\n",
    "features = iris_dataset['data']\n",
    "flags = iris_dataset['target']\n",
    "for train_index, test_index in kf.split(features, y=flags):\n",
    "    # train_df = pd.DataFrame(iris_dataset['data'][train_index], columns=iris_dataset.feature_names)\n",
    "    knn.fit(features[train_index], flags[train_index])\n",
    "    print(knn.score(features[test_index], flags[test_index]))"
   ]
  },
  {
   "cell_type": "code",
   "execution_count": 20,
   "metadata": {},
   "outputs": [
    {
     "name": "stdout",
     "output_type": "stream",
     "text": [
      "0.9333333333333333\n",
      "0.9333333333333333\n",
      "0.9333333333333333\n",
      "0.9333333333333333\n",
      "0.9333333333333333\n",
      "1.0\n",
      "1.0\n",
      "0.9333333333333333\n",
      "1.0\n",
      "1.0\n"
     ]
    }
   ],
   "source": [
    "kf = KFold(n_splits=10, shuffle=True, random_state=2024)\n",
    "NN = 1\n",
    "knn = KNeighborsClassifier(n_neighbors=NN)\n",
    "features = iris_dataset['data']\n",
    "flags = iris_dataset['target']\n",
    "for train_index, test_index in kf.split(features, y=flags):\n",
    "    # train_df = pd.DataFrame(iris_dataset['data'][train_index], columns=iris_dataset.feature_names)\n",
    "    knn.fit(features[train_index], flags[train_index])\n",
    "    print(knn.score(features[test_index], flags[test_index]))"
   ]
  },
  {
   "cell_type": "code",
   "execution_count": null,
   "metadata": {},
   "outputs": [],
   "source": []
  }
 ],
 "metadata": {
  "kernelspec": {
   "display_name": ".venv",
   "language": "python",
   "name": "python3"
  },
  "language_info": {
   "codemirror_mode": {
    "name": "ipython",
    "version": 3
   },
   "file_extension": ".py",
   "mimetype": "text/x-python",
   "name": "python",
   "nbconvert_exporter": "python",
   "pygments_lexer": "ipython3",
   "version": "3.11.5"
  }
 },
 "nbformat": 4,
 "nbformat_minor": 2
}
