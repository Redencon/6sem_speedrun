{
 "cells": [
  {
   "cell_type": "markdown",
   "metadata": {},
   "source": [
    "# Повторение материала прошлого семестра\n",
    "\n",
    "> TIME: 0:25:32"
   ]
  },
  {
   "cell_type": "markdown",
   "metadata": {},
   "source": [
    "## Программа максимум, минимум, среднее, стд. Конец = End"
   ]
  },
  {
   "cell_type": "code",
   "execution_count": 2,
   "metadata": {},
   "outputs": [],
   "source": [
    "def an_seq():\n",
    "    cur = input()\n",
    "    seq = []\n",
    "    while cur != \"End\":\n",
    "        cf = float(cur)\n",
    "        seq.append(cf)\n",
    "        cur = input()\n",
    "    print(\"MAX: {}\\nMIN: {}\\nMEAN: {}\\nSTD: {}\".format(\n",
    "        max(seq), min(seq), mean := sum(seq)/len(seq), sum([(n-mean)**2 for n in seq])**0.5\n",
    "    ))"
   ]
  },
  {
   "cell_type": "code",
   "execution_count": 3,
   "metadata": {},
   "outputs": [
    {
     "name": "stdout",
     "output_type": "stream",
     "text": [
      "MAX: 31.0\n",
      "MIN: 1.0\n",
      "MEAN: 9.285714285714286\n",
      "STD: 27.41219749360805\n"
     ]
    }
   ],
   "source": [
    "an_seq()"
   ]
  },
  {
   "cell_type": "markdown",
   "metadata": {},
   "source": [
    "## Сортировки"
   ]
  },
  {
   "cell_type": "code",
   "execution_count": 8,
   "metadata": {},
   "outputs": [
    {
     "name": "stdout",
     "output_type": "stream",
     "text": [
      "[-2, 1, 3, 4, 8, 15, 17, 24]\n",
      "[-2, 1, 3, 4, 8, 15, 17, 24]\n",
      "[-2, 1, 3, 4, 8, 15, 17, 24]\n",
      "[-2, 1, 3, 4, 8, 15, 17, 24]\n",
      "[-2, 1, 3, 4, 8, 15, 17, 24]\n"
     ]
    }
   ],
   "source": [
    "l = [1, 4, 15, 3, 8, -2, 17, 24]\n",
    "\n",
    "def bubble(l: list):\n",
    "    lc = l.copy()\n",
    "    n = len(lc)\n",
    "    for i in range(n):\n",
    "        for j in range(1, n-i):\n",
    "            if lc[j] < lc [j-1]:\n",
    "                lc[j], lc[j-1] = lc[j-1], lc[j]\n",
    "    return lc\n",
    "\n",
    "def pick(l: list):\n",
    "    lc = l.copy()\n",
    "    n = len(lc)\n",
    "    for i in range(n):\n",
    "        m = lc[0]\n",
    "        mi = 0\n",
    "        for j in range(1, n-i):\n",
    "            if lc[j] > m:\n",
    "                m = lc[j]\n",
    "                mi = j\n",
    "        lc[n-i-1], lc[mi] = lc[mi], lc[n-i-1]\n",
    "    return lc\n",
    "\n",
    "def default_quicksort(l: list):\n",
    "    return sorted(l)\n",
    "\n",
    "def merge(l: list):\n",
    "    n = len(l)\n",
    "    if n == 1:\n",
    "        return l\n",
    "    left = l[:n//2]\n",
    "    right = l[n//2:]\n",
    "    left_sorted = merge(left)\n",
    "    right_sorted = merge(right)\n",
    "    k, l = len(left_sorted), len(right_sorted)\n",
    "    i, j = 0, 0\n",
    "    l_sorted = []\n",
    "    while i < k and j < l:\n",
    "        if left_sorted[i] < right_sorted[j]:\n",
    "            l_sorted.append(left_sorted[i])\n",
    "            i += 1\n",
    "        else:\n",
    "            l_sorted.append(right_sorted[j])\n",
    "            j += 1\n",
    "    while i < k:\n",
    "        l_sorted.append(left_sorted[i])\n",
    "        i += 1\n",
    "    while j < l:\n",
    "        l_sorted.append(right_sorted[j])\n",
    "        j += 1\n",
    "    return l_sorted\n",
    "\n",
    "def monkey(l: list):\n",
    "    import random\n",
    "    lc = l.copy()\n",
    "    flag = True\n",
    "    while flag:\n",
    "        for i, v in enumerate(lc):\n",
    "            if i == 0:\n",
    "                continue\n",
    "            if v < lc[i-1]:\n",
    "                break\n",
    "        else:\n",
    "            return lc\n",
    "        random.shuffle(lc)\n",
    "\n",
    "for method in (bubble, pick, default_quicksort, merge, monkey):\n",
    "    print(method(l))"
   ]
  },
  {
   "cell_type": "code",
   "execution_count": 9,
   "metadata": {},
   "outputs": [
    {
     "name": "stdout",
     "output_type": "stream",
     "text": [
      "{'v1': 'k1', 'v2': 'k2', 'v3': 'k3'}\n"
     ]
    }
   ],
   "source": [
    "d = {'k1': 'v1', 'k2': 'v2', 'k3': 'v3'}\n",
    "\n",
    "d_n = {v: k for k, v in d.items()}\n",
    "print(d_n)"
   ]
  },
  {
   "cell_type": "code",
   "execution_count": 11,
   "metadata": {},
   "outputs": [
    {
     "name": "stdout",
     "output_type": "stream",
     "text": [
      "1 81 121 361 441 841 961 1521 1681 2401\n"
     ]
    }
   ],
   "source": [
    "n=1\n",
    "out = []\n",
    "while (sq := n**2) < 2500:\n",
    "    if sq % 10 == 1:\n",
    "        out.append(sq)\n",
    "    n += 1\n",
    "print(*out)"
   ]
  }
 ],
 "metadata": {
  "kernelspec": {
   "display_name": ".venv",
   "language": "python",
   "name": "python3"
  },
  "language_info": {
   "codemirror_mode": {
    "name": "ipython",
    "version": 3
   },
   "file_extension": ".py",
   "mimetype": "text/x-python",
   "name": "python",
   "nbconvert_exporter": "python",
   "pygments_lexer": "ipython3",
   "version": "3.11.5"
  }
 },
 "nbformat": 4,
 "nbformat_minor": 2
}
