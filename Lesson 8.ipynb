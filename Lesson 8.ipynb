{
 "cells": [
  {
   "cell_type": "markdown",
   "metadata": {},
   "source": [
    "# Lesson 8 Генераторы и цикл for\n",
    "\n",
    "T+: 27:16"
   ]
  },
  {
   "cell_type": "code",
   "execution_count": 9,
   "metadata": {},
   "outputs": [
    {
     "name": "stdout",
     "output_type": "stream",
     "text": [
      "1\n",
      "4\n",
      "9\n",
      "16\n"
     ]
    }
   ],
   "source": [
    "def print_map(function, iterable):\n",
    "    for i in iterable:\n",
    "        print(function(i))\n",
    "\n",
    "def forless_print_map(f, itera):\n",
    "    list(map(lambda i: print(f(i)), itera))\n",
    "\n",
    "forless_print_map(lambda x: x**2, [1, 2, 3, 4])"
   ]
  },
  {
   "cell_type": "code",
   "execution_count": 12,
   "metadata": {},
   "outputs": [
    {
     "name": "stdout",
     "output_type": "stream",
     "text": [
      "1\n",
      "1\n",
      "2\n",
      "3\n",
      "5\n",
      "8\n",
      "13\n",
      "21\n",
      "34\n",
      "55\n",
      "89\n",
      "144\n"
     ]
    }
   ],
   "source": [
    "def fibonacci(n: int):\n",
    "    a = 0\n",
    "    b = 1\n",
    "    i = 1\n",
    "    if n < 1:\n",
    "        raise ValueError(\"n must be a positive integer\")\n",
    "    while i <= n:\n",
    "        yield b\n",
    "        a, b = b, a+b\n",
    "        i += 1\n",
    "\n",
    "for k in fibonacci(12):\n",
    "    print(k)"
   ]
  },
  {
   "cell_type": "code",
   "execution_count": 13,
   "metadata": {},
   "outputs": [],
   "source": [
    "def my_zip(iter1, iter2):\n",
    "    i1 = 0\n",
    "    i2 = 0\n",
    "    n1 = len(iter1)\n",
    "    n2 = len(iter2)\n",
    "    while i1 < n1 and i2 < n2:\n",
    "        yield (iter1[i1], iter2[i2])\n",
    "        i1 += 1\n",
    "        i2 += 2\n",
    "\n",
    "def my_map(func, iterable):\n",
    "    for k in iterable:\n",
    "        yield func(iterable)\n",
    "\n",
    "def my_enuimerate(stop, step=1):\n",
    "    i = 0\n",
    "    while i < stop:\n",
    "        yield i\n",
    "        i += step"
   ]
  },
  {
   "cell_type": "code",
   "execution_count": 14,
   "metadata": {},
   "outputs": [],
   "source": [
    "import itertools as itt"
   ]
  },
  {
   "cell_type": "code",
   "execution_count": 17,
   "metadata": {},
   "outputs": [],
   "source": [
    "def get_cartesian_product(a, b):\n",
    "    for x, y in itt.product(a, b):\n",
    "        yield x, y\n",
    "\n",
    "assert list(get_cartesian_product([1, 2], [3, 4])) == [(1, 3), (1, 4), (2, 3), (2, 4)]"
   ]
  },
  {
   "cell_type": "code",
   "execution_count": 22,
   "metadata": {},
   "outputs": [
    {
     "data": {
      "text/plain": [
       "True"
      ]
     },
     "execution_count": 22,
     "metadata": {},
     "output_type": "execute_result"
    }
   ],
   "source": [
    "def get_permutations(s, n):\n",
    "    return [\"\".join(k) for k in itt.permutations(s, n)]\n",
    "\n",
    "set(get_permutations(\"cat\", 2)) == set([\"ac\", \"at\", \"ca\", \"ct\", \"ta\", \"tc\"])\n",
    "# get_permutations(\"cat\", 2)"
   ]
  },
  {
   "cell_type": "code",
   "execution_count": 28,
   "metadata": {},
   "outputs": [
    {
     "data": {
      "text/plain": [
       "['c', 'a', 't', 'ca', 'ct', 'at']"
      ]
     },
     "execution_count": 28,
     "metadata": {},
     "output_type": "execute_result"
    }
   ],
   "source": [
    "def get_combinations(s, n):\n",
    "    return [\"\".join(k) for i in range(1, n+1) for k in itt.combinations(s, i)]\n",
    "\n",
    "get_combinations(\"cat\", 2) \n",
    "# get_permutations(\"cat\", 2)"
   ]
  },
  {
   "cell_type": "code",
   "execution_count": 30,
   "metadata": {},
   "outputs": [
    {
     "data": {
      "text/plain": [
       "['cc', 'ca', 'ct', 'aa', 'at', 'tt']"
      ]
     },
     "execution_count": 30,
     "metadata": {},
     "output_type": "execute_result"
    }
   ],
   "source": [
    "def get_combinations_with_r(s, n):\n",
    "    return [\"\".join(k) for k in itt.combinations_with_replacement(s, n)]\n",
    "\n",
    "get_combinations_with_r(\"cat\", 2)"
   ]
  },
  {
   "cell_type": "code",
   "execution_count": 32,
   "metadata": {},
   "outputs": [
    {
     "data": {
      "text/plain": [
       "[(1, '1'), (3, '2'), (1, '3'), (2, '1')]"
      ]
     },
     "execution_count": 32,
     "metadata": {},
     "output_type": "execute_result"
    }
   ],
   "source": [
    "def compress_string(s):\n",
    "    return [(len(list(v)), k) for k, v in itt.groupby(s)]\n",
    "\n",
    "compress_string('1222311')"
   ]
  },
  {
   "cell_type": "code",
   "execution_count": 43,
   "metadata": {},
   "outputs": [
    {
     "data": {
      "text/plain": [
       "206"
      ]
     },
     "execution_count": 43,
     "metadata": {},
     "output_type": "execute_result"
    }
   ],
   "source": [
    "def sum_squares(iterator, mod):\n",
    "    return sum(map(lambda x: x*x, iterator)) % mod\n",
    "\n",
    "def maximize(lists: list[list[int]], m):\n",
    "    maxv = 0\n",
    "    maxvalues = list(map(max, lists))\n",
    "    for i in range(len(maxvalues), 0, -1):\n",
    "        for comb in itt.combinations(maxvalues, i):\n",
    "            v = sum_squares(comb, m)\n",
    "            maxv = max(v, maxv)\n",
    "    return maxv\n",
    "\n",
    "lists = [\n",
    "    [5, 4],\n",
    "    [7, 8, 9],\n",
    "    [5, 7, 8, 9, 10]\n",
    "]\n",
    "maximize(lists, m=1000)"
   ]
  }
 ],
 "metadata": {
  "kernelspec": {
   "display_name": ".venv",
   "language": "python",
   "name": "python3"
  },
  "language_info": {
   "codemirror_mode": {
    "name": "ipython",
    "version": 3
   },
   "file_extension": ".py",
   "mimetype": "text/x-python",
   "name": "python",
   "nbconvert_exporter": "python",
   "pygments_lexer": "ipython3",
   "version": "3.11.5"
  }
 },
 "nbformat": 4,
 "nbformat_minor": 2
}
