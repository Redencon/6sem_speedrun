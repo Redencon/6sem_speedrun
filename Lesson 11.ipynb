{
 "cells": [
  {
   "cell_type": "markdown",
   "metadata": {},
   "source": [
    "# Lesson 11. Multithreading"
   ]
  },
  {
   "cell_type": "markdown",
   "metadata": {},
   "source": [
    "## Task 1\n",
    "different threads are accessing the variable when the want, even if it is \"being processed\", so Locking prevents accessing \"processing\" parts"
   ]
  },
  {
   "cell_type": "markdown",
   "metadata": {},
   "source": [
    "## Task 2"
   ]
  },
  {
   "cell_type": "code",
   "execution_count": 5,
   "metadata": {},
   "outputs": [
    {
     "name": "stdout",
     "output_type": "stream",
     "text": [
      "... pinging 192.168.178.22... pinging 192.168.178.20\n",
      "... pinging 192.168.178.23\n",
      "... pinging 192.168.178.29\n",
      "... pinging 192.168.178.26\n",
      "... pinging 192.168.178.28\n",
      "... pinging 192.168.178.24\n",
      "... pinging 192.168.178.27\n",
      "... pinging 192.168.178.21\n",
      "\n",
      "... pinging 192.168.178.25\n"
     ]
    }
   ],
   "source": [
    "import os, re\n",
    "import threading\n",
    "\n",
    "received_packages = re.compile(r\"(\\d) received\")\n",
    "status = (\"no response\", \"alive but losses\", \"alive\")\n",
    "\n",
    "def ping_adress(ip):\n",
    "    ping_out = os.popen(\"ping -q -c2 \" + ip, \"r\")  # получение вердикта\n",
    "    print(\"... pinging \"+ ip)\n",
    "    while True:\n",
    "        line = ping_out.readline()\n",
    "        if not line:\n",
    "            break\n",
    "        n_received = received_packages.findall(line)\n",
    "        if n_received:\n",
    "            print(ip + \": \" + status[int(n_received[0])])\n",
    "    \n",
    "ths: list[threading.Thread] = []\n",
    "\n",
    "for suffix in range(20, 30):\n",
    "    ip = \"192.168.178.\" + str(suffix)\n",
    "    th = threading.Thread(target=ping_adress, args=(ip,))\n",
    "    ths.append(th)\n",
    "\n",
    "for th in ths:\n",
    "    th.start()\n",
    "\n",
    "for th in ths:\n",
    "    th.join()"
   ]
  },
  {
   "cell_type": "markdown",
   "metadata": {},
   "source": [
    "## Task 3"
   ]
  },
  {
   "cell_type": "code",
   "execution_count": 15,
   "metadata": {},
   "outputs": [],
   "source": [
    "import time\n",
    "list_to_calc = [2]*5000 + [3]*3000\n",
    "def parallel_calculations(n_threads: int):\n",
    "    start = time.time()\n",
    "    # код, время работы которого надо замерить\n",
    "    result = 0\n",
    "    lock = threading.Lock()\n",
    "    def summer(l: list):\n",
    "        nonlocal result\n",
    "        subresult = sum(l)\n",
    "        with lock:\n",
    "            result = subresult + result\n",
    "\n",
    "    sub_lists = [\n",
    "        list_to_calc[i::n_threads]\n",
    "        for i in range(n_threads)\n",
    "    ]\n",
    "    ths = [\n",
    "        threading.Thread(target=summer, args=[sub_lists[i]])\n",
    "        for i in range(n_threads)\n",
    "    ]\n",
    "    for th in ths:\n",
    "        th.start()\n",
    "    for th in ths:\n",
    "        th.join()\n",
    "    print(result)\n",
    "    print(time.time() - start)"
   ]
  },
  {
   "cell_type": "code",
   "execution_count": 16,
   "metadata": {},
   "outputs": [
    {
     "name": "stdout",
     "output_type": "stream",
     "text": [
      "3 threads:\n",
      "19000\n",
      "0.0\n",
      "4 threads:\n",
      "19000\n",
      "0.0010008811950683594\n",
      "5 threads:\n",
      "19000\n",
      "0.0\n",
      "6 threads:\n",
      "19000\n",
      "0.0010006427764892578\n",
      "7 threads:\n",
      "19000\n",
      "0.0010004043579101562\n",
      "8 threads:\n",
      "19000\n",
      "0.0010013580322265625\n",
      "9 threads:\n",
      "19000\n",
      "0.0010013580322265625\n"
     ]
    }
   ],
   "source": [
    "for n in range(3, 10):\n",
    "    print(f\"{n} threads:\")\n",
    "    parallel_calculations(n)"
   ]
  },
  {
   "cell_type": "markdown",
   "metadata": {},
   "source": [
    "## Task 4"
   ]
  },
  {
   "cell_type": "code",
   "execution_count": 18,
   "metadata": {},
   "outputs": [
    {
     "name": "stdout",
     "output_type": "stream",
     "text": [
      "2.089536666870117\n",
      "0.86979079246521\n"
     ]
    }
   ],
   "source": [
    "import urllib.request\n",
    "import time\n",
    "\n",
    "\n",
    "urls = [\n",
    "    'https://www.yandex.ru', 'https://www.google.com',\n",
    "    'https://habrahabr.ru', 'https://www.python.org',\n",
    "    'https://isocpp.org',\n",
    "]\n",
    "\n",
    "\n",
    "def read_url(url):\n",
    "    with urllib.request.urlopen(url) as u:\n",
    "        return u.read()\n",
    "\n",
    "\n",
    "start = time.time()\n",
    "for url in urls:\n",
    "    read_url(url)\n",
    "print(time.time() - start)\n",
    "\n",
    "start = time.time()\n",
    "ths = [\n",
    "    threading.Thread(target=read_url, args=[url])\n",
    "    for url in urls\n",
    "]\n",
    "for th in ths:\n",
    "    th.start()\n",
    "for th in ths:\n",
    "    th.join()\n",
    "print(time.time() - start)"
   ]
  },
  {
   "cell_type": "markdown",
   "metadata": {},
   "source": [
    "## Task 5\n",
    "Because another process doesn't have access to variables of other processes, including parent"
   ]
  },
  {
   "cell_type": "markdown",
   "metadata": {},
   "source": [
    "## Task 6*\n",
    "won't do, sowwy"
   ]
  }
 ],
 "metadata": {
  "kernelspec": {
   "display_name": ".venv",
   "language": "python",
   "name": "python3"
  },
  "language_info": {
   "codemirror_mode": {
    "name": "ipython",
    "version": 3
   },
   "file_extension": ".py",
   "mimetype": "text/x-python",
   "name": "python",
   "nbconvert_exporter": "python",
   "pygments_lexer": "ipython3",
   "version": "3.11.5"
  }
 },
 "nbformat": 4,
 "nbformat_minor": 2
}
