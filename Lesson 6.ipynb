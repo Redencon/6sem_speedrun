{
 "cells": [
  {
   "cell_type": "markdown",
   "metadata": {},
   "source": [
    "# Объектно-ориентированное программирование. Специальные методы.\n",
    "\n",
    "> TIME: 0:45:43"
   ]
  },
  {
   "cell_type": "code",
   "execution_count": 7,
   "metadata": {},
   "outputs": [],
   "source": [
    "from typing import Self\n",
    "\n",
    "class Complex:\n",
    "    def __init__(self, re: float, im: float = 0.0) -> None:\n",
    "        self.re = re\n",
    "        self.im = im\n",
    "\n",
    "    def __add__(self, other: Self|float) -> Self:\n",
    "        if isinstance(other, float):\n",
    "            return Complex(self.re + other, self.im)\n",
    "        return Complex(self.re + other.re, self.im + other.im)\n",
    "\n",
    "    def __mul__(self, other: Self|float) -> Self:\n",
    "        if isinstance(other, float):\n",
    "            return Complex(self.re * other, self.im * other)\n",
    "        return Complex(self.re * other.re - self.im * other.im, self.re * other.im + self.im * other.re)\n",
    "\n",
    "    def __sub__(self, other: Self|float) -> Self:\n",
    "        if isinstance(other, float):\n",
    "            return Complex(self.re - other, self.im)\n",
    "        return Complex(self.re - other.re, self.im - other.im)\n",
    "\n",
    "    def __truediv__(self, other: Self|float) -> Self:\n",
    "        if isinstance(other, float):\n",
    "            return Complex(self.re / other, self.im / other)\n",
    "        return self * other.conj() / abs(other)**2\n",
    "\n",
    "    def __abs__(self) -> float:\n",
    "        return (self.re ** 2 + self.im ** 2)**0.5\n",
    "\n",
    "    def conj(self) -> Self:\n",
    "        return Complex(self.re, -1*self.im)\n",
    "\n",
    "    def __repr__(self) -> str:\n",
    "        return f\"Complex({self.re}, {self.im:+})\"\n",
    "\n",
    "    def __str__(self) -> str:\n",
    "        return f\"{self.re}{self.im:+}i\"\n",
    "        "
   ]
  },
  {
   "cell_type": "code",
   "execution_count": 11,
   "metadata": {},
   "outputs": [
    {
     "name": "stdout",
     "output_type": "stream",
     "text": [
      "2.52+0.64i\n",
      "-33+56i\n",
      "2+8i\n",
      "8+16i\n",
      "5.0\n"
     ]
    },
    {
     "data": {
      "text/plain": [
       "Complex(5, +12)"
      ]
     },
     "execution_count": 11,
     "metadata": {},
     "output_type": "execute_result"
    }
   ],
   "source": [
    "a = Complex(3, 4)\n",
    "b = Complex(5, 12)\n",
    "\n",
    "print(b / a)\n",
    "print(b * a)\n",
    "print(b - a)\n",
    "print(b + a)\n",
    "print(abs(a))\n",
    "\n",
    "b"
   ]
  },
  {
   "cell_type": "markdown",
   "metadata": {},
   "source": [
    "---"
   ]
  },
  {
   "cell_type": "code",
   "execution_count": 17,
   "metadata": {},
   "outputs": [],
   "source": [
    "from typing import Self\n",
    "\n",
    "class Vector:\n",
    "    def __init__(self, x:float|str, y:float=0.0, z:float=0.0) -> None:\n",
    "        if isinstance(x, str):\n",
    "            self.x, self.y = map(float, x.split(','))\n",
    "            self.z=0.0\n",
    "            return\n",
    "        self.x = x\n",
    "        self.y = y\n",
    "        self.z = z\n",
    "\n",
    "    def __add__(self, other: Self) -> Self:\n",
    "        return Vector(self.x + other.x, self.y + other.y, self.z + other.z)\n",
    "\n",
    "    def __sub__(self, other: Self) -> Self:\n",
    "        return Vector(self.x - other.x, self.y - other.y, self.z - other.z)\n",
    "\n",
    "    def __matmul__(self, other: Self) -> float:\n",
    "        return self.x * other.x + self.y * other.y +  self.z * other.z\n",
    "\n",
    "    def __mul__(self, other: float) -> Self:\n",
    "        return Vector(self.x * other, self.y * other, self.z * other)\n",
    "\n",
    "    def __truediv__(self, other: float) -> Self:\n",
    "        return Vector(self.x / other, self.y / other, self.z / other)\n",
    "\n",
    "    def __abs__(self) -> float:\n",
    "        return self @ self\n",
    "\n",
    "    def __repr__(self) -> str:\n",
    "        return f\"Vector(x={self.x},y={self.y},z={self.z})\"\n",
    "\n",
    "    def __str__(self) -> str:\n",
    "        return f\"({self.x}, {self.y}, {self.z})\""
   ]
  },
  {
   "cell_type": "code",
   "execution_count": 22,
   "metadata": {},
   "outputs": [
    {
     "name": "stdout",
     "output_type": "stream",
     "text": [
      "(3.0, 16.0, 0.0)\n",
      "(1.8, 7.2, 0.8)\n"
     ]
    }
   ],
   "source": [
    "points = [\n",
    "    (1., 2., 3.),\n",
    "    (1., 1., 1.),\n",
    "    (0., 12., 0.),\n",
    "    (4., 5.),\n",
    "    (\"3,16\",)\n",
    "]\n",
    "points_V = [Vector(*a) for a in points]\n",
    "\n",
    "n = len(points_V)\n",
    "mx = 0\n",
    "mxi = 0\n",
    "for i, v in enumerate(points_V):\n",
    "    if abs(v) > mx:\n",
    "        mx = abs(v)\n",
    "        mxi = i\n",
    "print(points_V[mxi])\n",
    "\n",
    "sumv = sum(points_V, start=Vector(0.,0.,0.)) / n\n",
    "print(sumv)"
   ]
  },
  {
   "cell_type": "code",
   "execution_count": 24,
   "metadata": {},
   "outputs": [
    {
     "name": "stdout",
     "output_type": "stream",
     "text": [
      "Area is 6.0\n",
      "Volume is 24.0\n"
     ]
    }
   ],
   "source": [
    "print(f\"Area is {points_V[0] @ points_V[1]}\")\n",
    "\n",
    "v1 = points_V[0]\n",
    "v2 = points_V[1]\n",
    "v3 = points_V[2]\n",
    "print(f\"Volume is {v1.x*v2.y*v3.z - v1.x*v2.z*v3.y + v1.y*v2.z*v3.x - v1.y*v2.x*v3.z + v1.z*v2.x*v3.y - v1.z*v2.y*v3.x}\")"
   ]
  },
  {
   "cell_type": "code",
   "execution_count": null,
   "metadata": {},
   "outputs": [],
   "source": []
  }
 ],
 "metadata": {
  "kernelspec": {
   "display_name": ".venv",
   "language": "python",
   "name": "python3"
  },
  "language_info": {
   "codemirror_mode": {
    "name": "ipython",
    "version": 3
   },
   "file_extension": ".py",
   "mimetype": "text/x-python",
   "name": "python",
   "nbconvert_exporter": "python",
   "pygments_lexer": "ipython3",
   "version": "3.11.5"
  }
 },
 "nbformat": 4,
 "nbformat_minor": 2
}
