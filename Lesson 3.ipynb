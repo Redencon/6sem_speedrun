{
 "cells": [
  {
   "cell_type": "markdown",
   "metadata": {},
   "source": [
    "# Работа с файлами\n",
    "\n",
    "> TIME: 0:13:58"
   ]
  },
  {
   "cell_type": "code",
   "execution_count": 1,
   "metadata": {},
   "outputs": [],
   "source": [
    "import os"
   ]
  },
  {
   "cell_type": "code",
   "execution_count": 3,
   "metadata": {},
   "outputs": [
    {
     "name": "stdout",
     "output_type": "stream",
     "text": [
      "We value your projects and what you have already done to our university, but it's more clear now than ever, that students lack a place to rest or communicate with each other.\n",
      "Right now we already have a dozen of different labs and project-oriented complexes, but the amount of leisure space is insufficient, to say the least.\n",
      "Currently, we may consider only LK entrance and GK 2-floor hall as such and we think that this is not enough\n"
     ]
    }
   ],
   "source": [
    "with open(\"files/random_text.txt\") as f:\n",
    "    for line in f.readlines():\n",
    "        print(line[:-1])"
   ]
  },
  {
   "cell_type": "code",
   "execution_count": 4,
   "metadata": {},
   "outputs": [],
   "source": [
    "def write_array(array: list[str], filename: str):\n",
    "    with open(filename, \"w\") as f:\n",
    "        f.write(\"\\n\".join(array))\n",
    "\n",
    "write_array([\n",
    "    \"HERE\", \"ARE\", \"SAMPLE\", \"STRINGS\"\n",
    "], \"files/write.txt\")"
   ]
  },
  {
   "cell_type": "code",
   "execution_count": 6,
   "metadata": {},
   "outputs": [],
   "source": [
    "import zipfile\n",
    "\n",
    "with zipfile.PyZipFile(\"assets/main.zip\") as z:\n",
    "    z.extractall(\"main\")\n",
    "\n",
    "with open(\"main/.gitignore\", 'w') as f:\n",
    "    f.write('*')"
   ]
  },
  {
   "cell_type": "code",
   "execution_count": 11,
   "metadata": {},
   "outputs": [
    {
     "data": {
      "text/plain": [
       "104"
      ]
     },
     "execution_count": 11,
     "metadata": {},
     "output_type": "execute_result"
    }
   ],
   "source": [
    "def get_py_folders(path: str):\n",
    "    contents = os.listdir(path)\n",
    "    folders = []\n",
    "    is_me = False\n",
    "    for item in contents:\n",
    "        if item.endswith(\".py\"):\n",
    "            is_me = True\n",
    "        if \".\" not in item:\n",
    "            folders += get_py_folders(os.path.join(path, item))\n",
    "    if is_me:\n",
    "        folders.append(path)\n",
    "    return sorted(folders)\n",
    "\n",
    "out = get_py_folders(\"main\\\\main\")\n",
    "len(out)"
   ]
  }
 ],
 "metadata": {
  "kernelspec": {
   "display_name": ".venv",
   "language": "python",
   "name": "python3"
  },
  "language_info": {
   "codemirror_mode": {
    "name": "ipython",
    "version": 3
   },
   "file_extension": ".py",
   "mimetype": "text/x-python",
   "name": "python",
   "nbconvert_exporter": "python",
   "pygments_lexer": "ipython3",
   "version": "3.11.5"
  }
 },
 "nbformat": 4,
 "nbformat_minor": 2
}
